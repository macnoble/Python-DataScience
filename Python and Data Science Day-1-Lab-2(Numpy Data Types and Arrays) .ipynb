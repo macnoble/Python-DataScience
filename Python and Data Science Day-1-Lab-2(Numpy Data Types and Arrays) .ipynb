{
 "cells": [
  {
   "cell_type": "code",
   "execution_count": 1,
   "id": "3001ff24",
   "metadata": {},
   "outputs": [],
   "source": [
    "import numpy as np\n",
    "import csv"
   ]
  },
  {
   "cell_type": "code",
   "execution_count": 2,
   "id": "70dd6a02",
   "metadata": {},
   "outputs": [],
   "source": [
    "def openCSV(filename):\n",
    "    with open(filename, newline='') as file:\n",
    "        reader = csv.DictReader(file)\n",
    "        result = np.empty((0,6))\n",
    "        for row in reader:\n",
    "            headerRow = np.array([[row['Open'], row['High'], row['Low'], row['Close'], row['Adj Close'], row['Volume']]])\n",
    "            result = np.append(result, headerRow, axis=0)\n",
    "    return result.astype('float32')\n",
    "\n"
   ]
  },
  {
   "cell_type": "code",
   "execution_count": 3,
   "id": "c931896f",
   "metadata": {},
   "outputs": [
    {
     "name": "stdout",
     "output_type": "stream",
     "text": [
      "[[1.02610001e+02 1.05370003e+02 1.02000000e+02 1.05349998e+02\n",
      "  1.00274513e+02 6.76494000e+07]\n",
      " [1.05750000e+02 1.05849998e+02 1.02410004e+02 1.02709999e+02\n",
      "  9.77616806e+01 5.57910000e+07]\n",
      " [1.00559998e+02 1.02370003e+02 9.98700027e+01 1.00699997e+02\n",
      "  9.58485107e+01 6.84574000e+07]\n",
      " ...\n",
      " [1.15589996e+02 1.16519997e+02 1.15589996e+02 1.16519997e+02\n",
      "  1.13373917e+02 1.42495000e+07]\n",
      " [1.16519997e+02 1.17800003e+02 1.16489998e+02 1.17260002e+02\n",
      "  1.14093948e+02 1.82969000e+07]\n",
      " [1.17519997e+02 1.18019997e+02 1.16199997e+02 1.16760002e+02\n",
      "  1.13607445e+02 2.09059000e+07]]\n"
     ]
    }
   ],
   "source": [
    "appleStockPrices2016 = openCSV('AAPL-2016.csv')\n",
    "print(appleStockPrices2016)"
   ]
  },
  {
   "cell_type": "code",
   "execution_count": 5,
   "id": "ca85272f",
   "metadata": {},
   "outputs": [
    {
     "data": {
      "text/plain": [
       "2"
      ]
     },
     "execution_count": 5,
     "metadata": {},
     "output_type": "execute_result"
    }
   ],
   "source": [
    "appleStockPrices2016.ndim"
   ]
  },
  {
   "cell_type": "code",
   "execution_count": 6,
   "id": "3e6d82b4",
   "metadata": {},
   "outputs": [
    {
     "data": {
      "text/plain": [
       "(250, 6)"
      ]
     },
     "execution_count": 6,
     "metadata": {},
     "output_type": "execute_result"
    }
   ],
   "source": [
    "appleStockPrices2016.shape"
   ]
  },
  {
   "cell_type": "code",
   "execution_count": null,
   "id": "9c4f3ab3",
   "metadata": {},
   "outputs": [],
   "source": []
  }
 ],
 "metadata": {
  "kernelspec": {
   "display_name": "Python 3",
   "language": "python",
   "name": "python3"
  },
  "language_info": {
   "codemirror_mode": {
    "name": "ipython",
    "version": 3
   },
   "file_extension": ".py",
   "mimetype": "text/x-python",
   "name": "python",
   "nbconvert_exporter": "python",
   "pygments_lexer": "ipython3",
   "version": "3.8.8"
  }
 },
 "nbformat": 4,
 "nbformat_minor": 5
}
