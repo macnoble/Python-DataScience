{
 "cells": [
  {
   "cell_type": "code",
   "execution_count": 13,
   "id": "7d7c57c1",
   "metadata": {},
   "outputs": [],
   "source": [
    "import numpy as np\n",
    "import csv"
   ]
  },
  {
   "cell_type": "code",
   "execution_count": 2,
   "id": "a38adedf",
   "metadata": {},
   "outputs": [],
   "source": [
    "def openCSV(filename):\n",
    "    with open(filename, newline='') as file:\n",
    "        reader = csv.DictReader(file)\n",
    "        result = np.empty((0,6))\n",
    "        for row in reader:\n",
    "            headerRow = np.array([[row['Open'], row['High'], row['Low'], row['Close'], row['Adj Close'], row['Volume']]])\n",
    "            result = np.append(result, headerRow, axis=0)\n",
    "    return result.astype('float32')\n",
    "\n"
   ]
  },
  {
   "cell_type": "code",
   "execution_count": 5,
   "id": "56185e14",
   "metadata": {},
   "outputs": [
    {
     "name": "stdout",
     "output_type": "stream",
     "text": [
      "[[ 102.61  105.37  102.00  105.35  100.27  67649400.00]\n",
      " [ 105.75  105.85  102.41  102.71  97.76  55791000.00]\n",
      " [ 100.56  102.37  99.87  100.70  95.85  68457400.00]\n",
      " ...\n",
      " [ 115.59  116.52  115.59  116.52  113.37  14249500.00]\n",
      " [ 116.52  117.80  116.49  117.26  114.09  18296900.00]\n",
      " [ 117.52  118.02  116.20  116.76  113.61  20905900.00]]\n"
     ]
    }
   ],
   "source": [
    "appleStockPrices2016 = openCSV('AAPL-2016.csv')\n",
    "print(appleStockPrices2016)"
   ]
  },
  {
   "cell_type": "code",
   "execution_count": 4,
   "id": "9d01c310",
   "metadata": {},
   "outputs": [],
   "source": [
    "np.set_printoptions(formatter={'float': '{: 6.2f}'.format})"
   ]
  },
  {
   "cell_type": "code",
   "execution_count": 24,
   "id": "c9efe125",
   "metadata": {},
   "outputs": [
    {
     "name": "stdout",
     "output_type": "stream",
     "text": [
      "[[ 115.91  122.40]\n",
      " [ 116.43  122.89]\n",
      " [ 112.61  119.84]\n",
      " [ 110.14  115.72]\n",
      " [ 109.02  116.11]]\n"
     ]
    }
   ],
   "source": [
    "firstFiveHigh = appleStockPrices2016[:,[1,2]]\n",
    "#print(firstFiveHigh)\n",
    "projectionMatrix = np.array([[1.1, 0.0],[0.0 ,1.2]])\n",
    "projection = np.dot(firstFiveHigh,projectionMatrix)\n",
    "print(projection[:5])"
   ]
  },
  {
   "cell_type": "code",
   "execution_count": null,
   "id": "c81a5ebf",
   "metadata": {},
   "outputs": [],
   "source": []
  }
 ],
 "metadata": {
  "kernelspec": {
   "display_name": "Python 3",
   "language": "python",
   "name": "python3"
  },
  "language_info": {
   "codemirror_mode": {
    "name": "ipython",
    "version": 3
   },
   "file_extension": ".py",
   "mimetype": "text/x-python",
   "name": "python",
   "nbconvert_exporter": "python",
   "pygments_lexer": "ipython3",
   "version": "3.8.8"
  }
 },
 "nbformat": 4,
 "nbformat_minor": 5
}
