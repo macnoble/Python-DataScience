{
 "cells": [
  {
   "cell_type": "code",
   "execution_count": 5,
   "id": "8e80b7f3",
   "metadata": {},
   "outputs": [],
   "source": [
    "import numpy as np\n",
    "import csv"
   ]
  },
  {
   "cell_type": "code",
   "execution_count": 6,
   "id": "a42fe2e7",
   "metadata": {},
   "outputs": [],
   "source": [
    "def openCSV(filename):\n",
    "    with open(filename, newline='') as file:\n",
    "        reader = csv.DictReader(file)\n",
    "        result = np.empty((0,6))\n",
    "        for row in reader:\n",
    "            headerRow = np.array([[row['Open'], row['High'], row['Low'], row['Close'], row['Adj Close'], row['Volume']]])\n",
    "            result = np.append(result, headerRow, axis=0)\n",
    "    return result.astype('float32')\n",
    "\n"
   ]
  },
  {
   "cell_type": "code",
   "execution_count": 26,
   "id": "1e7309b0",
   "metadata": {},
   "outputs": [
    {
     "name": "stdout",
     "output_type": "stream",
     "text": [
      "[[ 102.61  105.37  102.00  105.35  100.27  67649400.00]\n",
      " [ 105.75  105.85  102.41  102.71  97.76  55791000.00]\n",
      " [ 100.56  102.37  99.87  100.70  95.85  68457400.00]\n",
      " ...\n",
      " [ 115.59  116.52  115.59  116.52  113.37  14249500.00]\n",
      " [ 116.52  117.80  116.49  117.26  114.09  18296900.00]\n",
      " [ 117.52  118.02  116.20  116.76  113.61  20905900.00]]\n"
     ]
    }
   ],
   "source": [
    "appleStockPrices2016 = openCSV('AAPL-2016.csv')\n",
    "print(appleStockPrices2016)"
   ]
  },
  {
   "cell_type": "code",
   "execution_count": 27,
   "id": "ec6a7778",
   "metadata": {},
   "outputs": [
    {
     "name": "stdout",
     "output_type": "stream",
     "text": [
      "[[ 115.80  116.33  114.76  116.15  113.01  28781900.00]\n",
      " [ 115.85  116.51  115.75  116.02  112.89  21118100.00]\n",
      " [ 115.92  116.86  115.81  116.61  113.46  22193600.00]\n",
      " ...\n",
      " [ 170.80  171.47  169.68  170.57  168.63  33185500.00]\n",
      " [ 170.10  170.78  169.71  170.60  168.66  21498200.00]\n",
      " [ 171.00  171.85  170.48  171.08  169.14  16480200.00]]\n"
     ]
    }
   ],
   "source": [
    "appleStockPrices2017 = openCSV('AAPL-2017.csv')\n",
    "print(appleStockPrices2017)"
   ]
  },
  {
   "cell_type": "code",
   "execution_count": 15,
   "id": "897c5fae",
   "metadata": {},
   "outputs": [
    {
     "name": "stdout",
     "output_type": "stream",
     "text": [
      "Total traded volume for AAPL 2016: 49739890.0\n",
      "Total traded volume for AAPL 2017: 24462692.0\n"
     ]
    }
   ],
   "source": [
    "print('Total traded volume for AAPL 2016:',appleStockPrices2016[5].sum(axis=0))\n",
    "print('Total traded volume for AAPL 2017:',appleStockPrices2017[5].sum(axis=0))"
   ]
  },
  {
   "cell_type": "code",
   "execution_count": 28,
   "id": "8afa53f6",
   "metadata": {},
   "outputs": [
    {
     "name": "stdout",
     "output_type": "stream",
     "text": [
      "Change in total traded volume for AAPL 2017 to 2016: -25277196.0\n"
     ]
    }
   ],
   "source": [
    "print('Change in total traded volume for AAPL 2017 to 2016:'\n",
    "      ,appleStockPrices2017[5].sum(axis=0)-appleStockPrices2016[5].sum(axis=0))"
   ]
  },
  {
   "cell_type": "code",
   "execution_count": 33,
   "id": "2f07022f",
   "metadata": {},
   "outputs": [
    {
     "data": {
      "text/plain": [
       "-25277196.0"
      ]
     },
     "execution_count": 33,
     "metadata": {},
     "output_type": "execute_result"
    }
   ],
   "source": [
    "change = appleStockPrices2017-appleStockPrices2016\n",
    "#print(change)\n",
    "change[5].sum(axis=0)"
   ]
  },
  {
   "cell_type": "code",
   "execution_count": 23,
   "id": "5935f5fd",
   "metadata": {},
   "outputs": [],
   "source": [
    "np.set_printoptions(formatter={'float': '{: 6.2f}'.format})"
   ]
  },
  {
   "cell_type": "markdown",
   "id": "37b94a0d",
   "metadata": {},
   "source": [
    "This tells NumPy to print floating point numbers with 6 spaces for the whole number part and 2 spaces for the fractional part.\n",
    "\n",
    "**np.set_printoptions(formatter={'float': '{: 6.2f}'.format})**\n",
    "\n",
    "You can reset the formatter using \n",
    "**np.set_printoptions().**"
   ]
  },
  {
   "cell_type": "code",
   "execution_count": 38,
   "id": "92bae3d4",
   "metadata": {},
   "outputs": [
    {
     "name": "stdout",
     "output_type": "stream",
     "text": [
      "[[ 102.61  105.37  102.00  105.35  100.27  67649400.00]\n",
      " [ 105.75  105.85  102.41  102.71  97.76  55791000.00]\n",
      " [ 100.56  102.37  99.87  100.70  95.85  68457400.00]\n",
      " ...\n",
      " [ 170.80  171.47  169.68  170.57  168.63  33185500.00]\n",
      " [ 170.10  170.78  169.71  170.60  168.66  21498200.00]\n",
      " [ 171.00  171.85  170.48  171.08  169.14  16480200.00]]\n"
     ]
    }
   ],
   "source": [
    "combined_years = np.concatenate((appleStockPrices2016,appleStockPrices2017),axis=0)\n",
    "print(combined_years)"
   ]
  },
  {
   "cell_type": "code",
   "execution_count": 40,
   "id": "7e743cc8",
   "metadata": {},
   "outputs": [],
   "source": [
    "np.savetxt('AAPL-2016_2017',combined_years, fmt='%10.2f',delimiter=',')"
   ]
  },
  {
   "cell_type": "code",
   "execution_count": null,
   "id": "09020734",
   "metadata": {},
   "outputs": [],
   "source": []
  }
 ],
 "metadata": {
  "kernelspec": {
   "display_name": "Python 3",
   "language": "python",
   "name": "python3"
  },
  "language_info": {
   "codemirror_mode": {
    "name": "ipython",
    "version": 3
   },
   "file_extension": ".py",
   "mimetype": "text/x-python",
   "name": "python",
   "nbconvert_exporter": "python",
   "pygments_lexer": "ipython3",
   "version": "3.8.8"
  }
 },
 "nbformat": 4,
 "nbformat_minor": 5
}
