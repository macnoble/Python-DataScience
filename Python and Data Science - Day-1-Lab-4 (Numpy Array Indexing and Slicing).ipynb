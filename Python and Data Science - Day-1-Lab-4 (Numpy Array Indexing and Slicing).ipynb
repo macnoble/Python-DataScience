{
 "cells": [
  {
   "cell_type": "code",
   "execution_count": 1,
   "id": "831b260a",
   "metadata": {},
   "outputs": [],
   "source": [
    "import numpy as np\n",
    "import csv"
   ]
  },
  {
   "cell_type": "code",
   "execution_count": 2,
   "id": "3675be23",
   "metadata": {},
   "outputs": [],
   "source": [
    "def openCSV(filename):\n",
    "    with open(filename, newline='') as file:\n",
    "        reader = csv.DictReader(file)\n",
    "        result = np.empty((0,6))\n",
    "        for row in reader:\n",
    "            headerRow = np.array([[row['Open'], row['High'], row['Low'], row['Close'], row['Adj Close'], row['Volume']]])\n",
    "            result = np.append(result, headerRow, axis=0)\n",
    "    return result.astype('float32')\n",
    "\n"
   ]
  },
  {
   "cell_type": "code",
   "execution_count": 7,
   "id": "e124d5c0",
   "metadata": {},
   "outputs": [],
   "source": [
    "np.set_printoptions(formatter={'float': '{: 6.2f}'.format})"
   ]
  },
  {
   "cell_type": "code",
   "execution_count": 22,
   "id": "39a80f0a",
   "metadata": {},
   "outputs": [
    {
     "name": "stdout",
     "output_type": "stream",
     "text": [
      "[[ 102.61  105.37  102.00  105.35  100.27  67649400.00]\n",
      " [ 105.75  105.85  102.41  102.71  97.76  55791000.00]\n",
      " [ 100.56  102.37  99.87  100.70  95.85  68457400.00]\n",
      " ...\n",
      " [ 115.59  116.52  115.59  116.52  113.37  14249500.00]\n",
      " [ 116.52  117.80  116.49  117.26  114.09  18296900.00]\n",
      " [ 117.52  118.02  116.20  116.76  113.61  20905900.00]]\n"
     ]
    }
   ],
   "source": [
    "appleStockPrices2016 = openCSV('AAPL-2016.csv')\n",
    "print(appleStockPrices2016)"
   ]
  },
  {
   "cell_type": "code",
   "execution_count": 11,
   "id": "678eccb3",
   "metadata": {},
   "outputs": [
    {
     "name": "stdout",
     "output_type": "stream",
     "text": [
      "[[ 102.61  105.37  102.00  105.35  100.27  67649400.00]\n",
      " [ 105.75  105.85  102.41  102.71  97.76  55791000.00]\n",
      " [ 100.56  102.37  99.87  100.70  95.85  68457400.00]\n",
      " [ 98.68  100.13  96.43  96.45  91.80  81094400.00]\n",
      " [ 98.55  99.11  96.76  96.96  92.29  70798000.00]\n",
      " [ 98.97  99.06  97.34  98.53  93.78  49739400.00]\n",
      " [ 100.55  100.69  98.84  99.96  95.14  49154200.00]\n",
      " [ 100.32  101.19  97.30  97.39  92.70  62439600.00]\n",
      " [ 97.96  100.48  95.74  99.52  94.73  63170100.00]\n",
      " [ 96.20  97.71  95.36  97.13  92.45  79010000.00]\n",
      " [ 98.41  98.65  95.50  96.66  92.00  53087700.00]\n",
      " [ 95.10  98.19  93.42  96.79  92.13  72334400.00]\n",
      " [ 97.06  97.88  94.94  96.30  91.66  52161500.00]\n",
      " [ 98.63  101.46  98.37  101.42  96.53  65800500.00]\n",
      " [ 101.52  101.53  99.21  99.44  94.65  51794500.00]\n",
      " [ 99.93  100.88  98.07  99.99  95.17  75077000.00]\n",
      " [ 96.04  96.63  93.34  93.42  88.92  133369696.00]\n",
      " [ 93.79  94.52  92.39  94.09  89.56  55678800.00]\n",
      " [ 94.79  97.34  94.35  97.34  92.65  64416500.00]\n",
      " [ 96.47  96.71  95.40  96.43  91.78  40943500.00]]\n"
     ]
    },
    {
     "data": {
      "text/plain": [
       "(20, 6)"
      ]
     },
     "execution_count": 11,
     "metadata": {},
     "output_type": "execute_result"
    }
   ],
   "source": [
    "january = appleStockPrices2016[:20]\n",
    "print(january)\n",
    "january.shape"
   ]
  },
  {
   "cell_type": "code",
   "execution_count": 12,
   "id": "49e0de04",
   "metadata": {},
   "outputs": [
    {
     "name": "stdout",
     "output_type": "stream",
     "text": [
      "[[ 102.61  105.37  102.00  105.35  100.27  100.00]\n",
      " [ 105.75  105.85  102.41  102.71  97.76  55791000.00]\n",
      " [ 100.56  102.37  99.87  100.70  95.85  68457400.00]\n",
      " [ 98.68  100.13  96.43  96.45  91.80  81094400.00]\n",
      " [ 98.55  99.11  96.76  96.96  92.29  70798000.00]\n",
      " [ 98.97  99.06  97.34  98.53  93.78  49739400.00]\n",
      " [ 100.55  100.69  98.84  99.96  95.14  49154200.00]\n",
      " [ 100.32  101.19  97.30  97.39  92.70  62439600.00]\n",
      " [ 97.96  100.48  95.74  99.52  94.73  63170100.00]\n",
      " [ 96.20  97.71  95.36  97.13  92.45  79010000.00]\n",
      " [ 98.41  98.65  95.50  96.66  92.00  53087700.00]\n",
      " [ 95.10  98.19  93.42  96.79  92.13  72334400.00]\n",
      " [ 97.06  97.88  94.94  96.30  91.66  52161500.00]\n",
      " [ 98.63  101.46  98.37  101.42  96.53  65800500.00]\n",
      " [ 101.52  101.53  99.21  99.44  94.65  51794500.00]\n",
      " [ 99.93  100.88  98.07  99.99  95.17  75077000.00]\n",
      " [ 96.04  96.63  93.34  93.42  88.92  133369696.00]\n",
      " [ 93.79  94.52  92.39  94.09  89.56  55678800.00]\n",
      " [ 94.79  97.34  94.35  97.34  92.65  64416500.00]\n",
      " [ 96.47  96.71  95.40  96.43  91.78  40943500.00]]\n"
     ]
    }
   ],
   "source": [
    "january[0][5] = 100\n",
    "print(january)"
   ]
  },
  {
   "cell_type": "code",
   "execution_count": 14,
   "id": "142e076c",
   "metadata": {},
   "outputs": [
    {
     "name": "stdout",
     "output_type": "stream",
     "text": [
      "[[ 102.61  105.37  102.00  105.35  100.27  100.00]\n",
      " [ 105.75  105.85  102.41  102.71  97.76  55791000.00]\n",
      " [ 100.56  102.37  99.87  100.70  95.85  68457400.00]\n",
      " [ 98.68  100.13  96.43  96.45  91.80  81094400.00]\n",
      " [ 98.55  99.11  96.76  96.96  92.29  70798000.00]]\n"
     ]
    }
   ],
   "source": [
    "firstFive = appleStockPrices2016[:5]\n",
    "print(firstFive)"
   ]
  },
  {
   "cell_type": "code",
   "execution_count": 17,
   "id": "62cde3fe",
   "metadata": {},
   "outputs": [
    {
     "name": "stdout",
     "output_type": "stream",
     "text": [
      "81094400.0\n"
     ]
    }
   ],
   "source": [
    "closeHigh = appleStockPrices2016[3].max()\n",
    "print(closeHigh)"
   ]
  },
  {
   "cell_type": "code",
   "execution_count": 18,
   "id": "f3cb901e",
   "metadata": {},
   "outputs": [
    {
     "name": "stdout",
     "output_type": "stream",
     "text": [
      "91.803276\n"
     ]
    }
   ],
   "source": [
    "closeLow = appleStockPrices2016[3].min()\n",
    "print(closeLow)"
   ]
  },
  {
   "cell_type": "code",
   "execution_count": 28,
   "id": "0d252fbb",
   "metadata": {},
   "outputs": [
    {
     "name": "stdout",
     "output_type": "stream",
     "text": [
      "[[ 105.37]\n",
      " [ 105.85]\n",
      " [ 102.37]\n",
      " [ 100.13]\n",
      " [ 99.11]]\n"
     ]
    }
   ],
   "source": [
    "firstFiveHigh = appleStockPrices2016[:,[1,2]][0:5]\n",
    "print(firstFiveHigh)\n"
   ]
  },
  {
   "cell_type": "code",
   "execution_count": null,
   "id": "cd593780",
   "metadata": {},
   "outputs": [],
   "source": []
  }
 ],
 "metadata": {
  "kernelspec": {
   "display_name": "Python 3",
   "language": "python",
   "name": "python3"
  },
  "language_info": {
   "codemirror_mode": {
    "name": "ipython",
    "version": 3
   },
   "file_extension": ".py",
   "mimetype": "text/x-python",
   "name": "python",
   "nbconvert_exporter": "python",
   "pygments_lexer": "ipython3",
   "version": "3.8.8"
  }
 },
 "nbformat": 4,
 "nbformat_minor": 5
}
