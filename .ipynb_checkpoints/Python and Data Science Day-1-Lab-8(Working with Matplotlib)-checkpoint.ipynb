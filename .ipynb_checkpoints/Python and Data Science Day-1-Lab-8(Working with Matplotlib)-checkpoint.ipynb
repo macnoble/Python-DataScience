{
 "cells": [
  {
   "cell_type": "code",
   "execution_count": 1,
   "id": "26d8e77d",
   "metadata": {},
   "outputs": [],
   "source": [
    "import numpy as np\n",
    "import csv\n",
    "from matplotlib import pyplot as plt \n",
    "import datetime"
   ]
  },
  {
   "cell_type": "code",
   "execution_count": 3,
   "id": "c61beecd",
   "metadata": {},
   "outputs": [],
   "source": [
    "def openCSV(filename):\n",
    "    with open(filename, newline='') as file:\n",
    "        reader = csv.DictReader(file)\n",
    "        result = np.empty((0,1))\n",
    "        for row in reader:\n",
    "            headerRow = np.array([[ row['Volume']]])\n",
    "            result = np.append(result, headerRow, axis=0)\n",
    "    return result.astype('float32')\n",
    "\n"
   ]
  },
  {
   "cell_type": "code",
   "execution_count": 4,
   "id": "2e4121d8",
   "metadata": {},
   "outputs": [],
   "source": [
    "np.set_printoptions(formatter={'float': '{: 6.2f}'.format})"
   ]
  },
  {
   "cell_type": "code",
   "execution_count": 6,
   "id": "775ecabb",
   "metadata": {},
   "outputs": [
    {
     "name": "stdout",
     "output_type": "stream",
     "text": [
      "[[ 67649400.00]\n",
      " [ 55791000.00]\n",
      " [ 68457400.00]\n",
      " [ 81094400.00]\n",
      " [ 70798000.00]\n",
      " [ 49739400.00]\n",
      " [ 49154200.00]\n",
      " [ 62439600.00]\n",
      " [ 63170100.00]\n",
      " [ 79010000.00]\n",
      " [ 53087700.00]\n",
      " [ 72334400.00]\n",
      " [ 52161500.00]\n",
      " [ 65800500.00]\n",
      " [ 51794500.00]\n",
      " [ 75077000.00]\n",
      " [ 133369696.00]\n",
      " [ 55678800.00]\n",
      " [ 64416500.00]\n",
      " [ 40943500.00]\n",
      " [ 37357200.00]\n",
      " [ 45964300.00]\n",
      " [ 46471700.00]\n",
      " [ 46418100.00]\n",
      " [ 54021400.00]\n",
      " [ 44331200.00]\n",
      " [ 42343600.00]\n",
      " [ 50074700.00]\n",
      " [ 40351400.00]\n",
      " [ 49057900.00]\n",
      " [ 44863200.00]\n",
      " [ 39021000.00]\n",
      " [ 35374200.00]\n",
      " [ 34280800.00]\n",
      " [ 31942600.00]\n",
      " [ 36255700.00]\n",
      " [ 27582700.00]\n",
      " [ 28991100.00]\n",
      " [ 35216300.00]\n",
      " [ 50407100.00]\n",
      " [ 33169600.00]\n",
      " [ 36955700.00]\n",
      " [ 46055100.00]\n",
      " [ 35828900.00]\n",
      " [ 31561900.00]\n",
      " [ 27201700.00]\n",
      " [ 33513600.00]\n",
      " [ 27408200.00]\n",
      " [ 25076100.00]\n",
      " [ 40067700.00]\n",
      " [ 38303500.00]\n",
      " [ 34420700.00]\n",
      " [ 44205200.00]\n",
      " [ 35502700.00]\n",
      " [ 32444400.00]\n",
      " [ 25703500.00]\n",
      " [ 26133000.00]\n",
      " [ 19411400.00]\n",
      " [ 31190100.00]\n",
      " [ 45601100.00]\n",
      " [ 25888400.00]\n",
      " [ 25874000.00]\n",
      " [ 37356200.00]\n",
      " [ 26578700.00]\n",
      " [ 26404100.00]\n",
      " [ 31801900.00]\n",
      " [ 23581700.00]\n",
      " [ 29407500.00]\n",
      " [ 27232300.00]\n",
      " [ 33257300.00]\n",
      " [ 25473900.00]\n",
      " [ 46939000.00]\n",
      " [ 60834000.00]\n",
      " [ 32384900.00]\n",
      " [ 30611000.00]\n",
      " [ 31552500.00]\n",
      " [ 33683100.00]\n",
      " [ 28031600.00]\n",
      " [ 56016200.00]\n",
      " [ 114602096.00]\n",
      " [ 82242704.00]\n",
      " [ 68531504.00]\n",
      " [ 48160100.00]\n",
      " [ 56831300.00]\n",
      " [ 41025500.00]\n",
      " [ 35890500.00]\n",
      " [ 43458200.00]\n",
      " [ 32936400.00]\n",
      " [ 33686800.00]\n",
      " [ 28719100.00]\n",
      " [ 76314704.00]\n",
      " [ 44392800.00]\n",
      " [ 61259800.00]\n",
      " [ 46916900.00]\n",
      " [ 42062400.00]\n",
      " [ 30442100.00]\n",
      " [ 32026000.00]\n",
      " [ 38018600.00]\n",
      " [ 35140200.00]\n",
      " [ 38168800.00]\n",
      " [ 56331200.00]\n",
      " [ 36229500.00]\n",
      " [ 42307200.00]\n",
      " [ 29173300.00]\n",
      " [ 40191600.00]\n",
      " [ 28062900.00]\n",
      " [ 23292500.00]\n",
      " [ 22409500.00]\n",
      " [ 20848100.00]\n",
      " [ 26601400.00]\n",
      " [ 31712900.00]\n",
      " [ 38020500.00]\n",
      " [ 31931900.00]\n",
      " [ 29445200.00]\n",
      " [ 31326800.00]\n",
      " [ 61008200.00]\n",
      " [ 34411900.00]\n",
      " [ 35546400.00]\n",
      " [ 29219100.00]\n",
      " [ 32240200.00]\n",
      " [ 75311400.00]\n",
      " [ 45489600.00]\n",
      " [ 40444900.00]\n",
      " [ 36531000.00]\n",
      " [ 35836400.00]\n",
      " [ 26026500.00]\n",
      " [ 27705200.00]\n",
      " [ 30949100.00]\n",
      " [ 25139600.00]\n",
      " [ 28912100.00]\n",
      " [ 23794900.00]\n",
      " [ 24167500.00]\n",
      " [ 25892200.00]\n",
      " [ 38919000.00]\n",
      " [ 30137000.00]\n",
      " [ 36493900.00]\n",
      " [ 23779900.00]\n",
      " [ 26276000.00]\n",
      " [ 32702000.00]\n",
      " [ 28313700.00]\n",
      " [ 40382900.00]\n",
      " [ 56239800.00]\n",
      " [ 92344800.00]\n",
      " [ 39869800.00]\n",
      " [ 27733700.00]\n",
      " [ 38167900.00]\n",
      " [ 33816600.00]\n",
      " [ 30202600.00]\n",
      " [ 27408700.00]\n",
      " [ 40553400.00]\n",
      " [ 28037200.00]\n",
      " [ 26315200.00]\n",
      " [ 24008500.00]\n",
      " [ 27484500.00]\n",
      " [ 18660400.00]\n",
      " [ 25868200.00]\n",
      " [ 33794400.00]\n",
      " [ 25356000.00]\n",
      " [ 21984700.00]\n",
      " [ 25368100.00]\n",
      " [ 25820200.00]\n",
      " [ 21257700.00]\n",
      " [ 23675100.00]\n",
      " [ 25086200.00]\n",
      " [ 27766300.00]\n",
      " [ 24970300.00]\n",
      " [ 24863900.00]\n",
      " [ 29662400.00]\n",
      " [ 26701500.00]\n",
      " [ 26802500.00]\n",
      " [ 26880400.00]\n",
      " [ 42364300.00]\n",
      " [ 53002000.00]\n",
      " [ 46557000.00]\n",
      " [ 45292800.00]\n",
      " [ 62176200.00]\n",
      " [ 110888704.00]\n",
      " [ 89983600.00]\n",
      " [ 79886896.00]\n",
      " [ 47023000.00]\n",
      " [ 34514300.00]\n",
      " [ 36003200.00]\n",
      " [ 31074000.00]\n",
      " [ 52481200.00]\n",
      " [ 29869400.00]\n",
      " [ 24607400.00]\n",
      " [ 29641100.00]\n",
      " [ 35887000.00]\n",
      " [ 36379100.00]\n",
      " [ 21701800.00]\n",
      " [ 29736800.00]\n",
      " [ 21453100.00]\n",
      " [ 28779300.00]\n",
      " [ 24358400.00]\n",
      " [ 36236000.00]\n",
      " [ 64041000.00]\n",
      " [ 37586800.00]\n",
      " [ 35192400.00]\n",
      " [ 35652200.00]\n",
      " [ 23624900.00]\n",
      " [ 24553500.00]\n",
      " [ 20034600.00]\n",
      " [ 24125800.00]\n",
      " [ 23192700.00]\n",
      " [ 23538700.00]\n",
      " [ 48129000.00]\n",
      " [ 66134200.00]\n",
      " [ 34562000.00]\n",
      " [ 37861700.00]\n",
      " [ 26419400.00]\n",
      " [ 43825800.00]\n",
      " [ 28331700.00]\n",
      " [ 26932600.00]\n",
      " [ 30837000.00]\n",
      " [ 32560000.00]\n",
      " [ 24054500.00]\n",
      " [ 59176400.00]\n",
      " [ 57134500.00]\n",
      " [ 34094100.00]\n",
      " [ 51175500.00]\n",
      " [ 32264500.00]\n",
      " [ 58840500.00]\n",
      " [ 27632000.00]\n",
      " [ 28428900.00]\n",
      " [ 29264600.00]\n",
      " [ 25965500.00]\n",
      " [ 27426400.00]\n",
      " [ 11475900.00]\n",
      " [ 27194000.00]\n",
      " [ 28528800.00]\n",
      " [ 36162300.00]\n",
      " [ 37086900.00]\n",
      " [ 26528000.00]\n",
      " [ 34324500.00]\n",
      " [ 26195500.00]\n",
      " [ 29998700.00]\n",
      " [ 27068300.00]\n",
      " [ 34402600.00]\n",
      " [ 26374400.00]\n",
      " [ 43733800.00]\n",
      " [ 34031800.00]\n",
      " [ 46524500.00]\n",
      " [ 44351100.00]\n",
      " [ 27779400.00]\n",
      " [ 21425000.00]\n",
      " [ 23783200.00]\n",
      " [ 26085900.00]\n",
      " [ 14249500.00]\n",
      " [ 18296900.00]\n",
      " [ 20905900.00]]\n"
     ]
    }
   ],
   "source": [
    "appleStockPrices2016 = openCSV('AAPL-2016.csv')\n",
    "print(appleStockPrices2016)"
   ]
  },
  {
   "cell_type": "code",
   "execution_count": 7,
   "id": "ba1086c0",
   "metadata": {
    "scrolled": true
   },
   "outputs": [],
   "source": [
    "slice_appleStockPrices2016 = appleStockPrices2016[:40]\n",
    "days=np.arange(0,40)"
   ]
  },
  {
   "cell_type": "code",
   "execution_count": 8,
   "id": "9904888f",
   "metadata": {},
   "outputs": [
    {
     "data": {
      "text/plain": [
       "[<matplotlib.lines.Line2D at 0x2df987a81f0>]"
      ]
     },
     "execution_count": 8,
     "metadata": {},
     "output_type": "execute_result"
    },
    {
     "data": {
      "image/png": "[encoded data removed]",
      "text/plain": [
       "<Figure size 432x288 with 1 Axes>"
      ]
     },
     "metadata": {
      "needs_background": "light"
     },
     "output_type": "display_data"
    }
   ],
   "source": [
    "plt.plot(days,slice_appleStockPrices2016)"
   ]
  },
  {
   "cell_type": "markdown",
   "id": "466a9aa7",
   "metadata": {},
   "source": [
    "**ALTERNATIVELY**"
   ]
  },
  {
   "cell_type": "code",
   "execution_count": 9,
   "id": "a76db697",
   "metadata": {},
   "outputs": [
    {
     "name": "stdout",
     "output_type": "stream",
     "text": [
      "[[ 67649400.00]\n",
      " [ 55791000.00]\n",
      " [ 68457400.00]\n",
      " [ 81094400.00]\n",
      " [ 70798000.00]\n",
      " [ 49739400.00]\n",
      " [ 49154200.00]\n",
      " [ 62439600.00]\n",
      " [ 63170100.00]\n",
      " [ 79010000.00]\n",
      " [ 53087700.00]\n",
      " [ 72334400.00]\n",
      " [ 52161500.00]\n",
      " [ 65800500.00]\n",
      " [ 51794500.00]\n",
      " [ 75077000.00]\n",
      " [ 133369696.00]\n",
      " [ 55678800.00]\n",
      " [ 64416500.00]\n",
      " [ 40943500.00]\n",
      " [ 37357200.00]\n",
      " [ 45964300.00]\n",
      " [ 46471700.00]\n",
      " [ 46418100.00]\n",
      " [ 54021400.00]\n",
      " [ 44331200.00]\n",
      " [ 42343600.00]\n",
      " [ 50074700.00]\n",
      " [ 40351400.00]\n",
      " [ 49057900.00]\n",
      " [ 44863200.00]\n",
      " [ 39021000.00]\n",
      " [ 35374200.00]\n",
      " [ 34280800.00]\n",
      " [ 31942600.00]\n",
      " [ 36255700.00]\n",
      " [ 27582700.00]\n",
      " [ 28991100.00]\n",
      " [ 35216300.00]\n",
      " [ 50407100.00]]\n"
     ]
    }
   ],
   "source": [
    "appleStockPrices2016 = openCSV('AAPL-2016.csv')\n",
    "slice_appleStockPrices2016 = appleStockPrices2016[:40]\n",
    "print(slice_appleStockPrices2016)"
   ]
  },
  {
   "cell_type": "code",
   "execution_count": 10,
   "id": "9a9e0f56",
   "metadata": {},
   "outputs": [],
   "source": [
    "def openCSV(filename):\n",
    "    with open(filename, newline='') as file:\n",
    "        reader = csv.DictReader(file)\n",
    "        result = np.empty((0,1))\n",
    "        for row in reader:\n",
    "            headerRow = np.array([[ row['Date']]])\n",
    "            result = np.append(result, headerRow, axis=0)\n",
    "    return result\n"
   ]
  },
  {
   "cell_type": "markdown",
   "id": "50d94f80",
   "metadata": {},
   "source": [
    "COVERTING DATES REUNED AS STRING TO DATE FORMAT\n",
    "**Dates = [datetime.datetime.strptime(str(x),'%Y-%m-%d') for x in dates[:,0]]**"
   ]
  },
  {
   "cell_type": "code",
   "execution_count": 12,
   "id": "bbccbb00",
   "metadata": {},
   "outputs": [],
   "source": [
    "dates = openCSV('AAPL-2016.csv')\n",
    "Dates = [datetime.datetime.strptime(str(x),'%Y-%m-%d') for x in dates[:,0]]\n",
    "fortyDays = Dates[:40]\n"
   ]
  },
  {
   "cell_type": "code",
   "execution_count": 13,
   "id": "9c9d623e",
   "metadata": {},
   "outputs": [
    {
     "data": {
      "text/plain": [
       "[<matplotlib.lines.Line2D at 0x2df98f0a700>]"
      ]
     },
     "execution_count": 13,
     "metadata": {},
     "output_type": "execute_result"
    },
    {
     "data": {
      "image/png": "[encoded data removed]",
      "text/plain": [
       "<Figure size 432x288 with 1 Axes>"
      ]
     },
     "metadata": {
      "needs_background": "light"
     },
     "output_type": "display_data"
    }
   ],
   "source": [
    "plt.plot(fortyDays,slice_appleStockPrices2016)"
   ]
  },
  {
   "cell_type": "code",
   "execution_count": 14,
   "id": "6d748828",
   "metadata": {},
   "outputs": [],
   "source": [
    "def openCSV(filename):\n",
    "    with open(filename, newline='') as file:\n",
    "        reader = csv.DictReader(file)\n",
    "        result = np.empty((0,1))\n",
    "        for row in reader:\n",
    "            headerRow = np.array([[ row['Open']]])\n",
    "            result = np.append(result, headerRow, axis=0)\n",
    "    return result.astype('float32')\n"
   ]
  },
  {
   "cell_type": "code",
   "execution_count": 15,
   "id": "a26933ff",
   "metadata": {},
   "outputs": [],
   "source": [
    "OpeningPrice2016 = openCSV('AAPL-2016.csv')\n",
    "OpeningPrice2017 = openCSV('AAPL-2017.csv')"
   ]
  },
  {
   "cell_type": "code",
   "execution_count": 20,
   "id": "25644554",
   "metadata": {},
   "outputs": [
    {
     "data": {
      "text/plain": [
       "<matplotlib.legend.Legend at 0x2df99002a00>"
      ]
     },
     "execution_count": 20,
     "metadata": {},
     "output_type": "execute_result"
    },
    {
     "data": {
      "image/png": "[encoded data removed]",
      "text/plain": [
       "<Figure size 432x288 with 1 Axes>"
      ]
     },
     "metadata": {
      "needs_background": "light"
     },
     "output_type": "display_data"
    }
   ],
   "source": [
    "plt.scatter(Dates,OpeningPrice2016)\n",
    "plt.scatter(Dates,OpeningPrice2017)\n",
    "plt.legend(['Opening Prices 2016','Opening Prices 2017'])"
   ]
  },
  {
   "cell_type": "code",
   "execution_count": 21,
   "id": "bf768dcd",
   "metadata": {},
   "outputs": [
    {
     "data": {
      "text/plain": [
       "<matplotlib.legend.Legend at 0x2df9907aaf0>"
      ]
     },
     "execution_count": 21,
     "metadata": {},
     "output_type": "execute_result"
    },
    {
     "data": {
      "image/png": "[encoded data removed]",
      "text/plain": [
       "<Figure size 432x288 with 1 Axes>"
      ]
     },
     "metadata": {
      "needs_background": "light"
     },
     "output_type": "display_data"
    }
   ],
   "source": [
    "plt.scatter(np.arange(0,250),OpeningPrice2016)\n",
    "plt.scatter(np.arange(0,250),OpeningPrice2017)\n",
    "plt.legend(['Opening Prices 2016','Opening Prices 2017'])"
   ]
  },
  {
   "cell_type": "code",
   "execution_count": 22,
   "id": "603002e2",
   "metadata": {},
   "outputs": [
    {
     "data": {
      "text/plain": [
       "<matplotlib.legend.Legend at 0x2df990dc4c0>"
      ]
     },
     "execution_count": 22,
     "metadata": {},
     "output_type": "execute_result"
    },
    {
     "data": {
      "image/png": "[encoded data removed]",
      "text/plain": [
       "<Figure size 432x288 with 1 Axes>"
      ]
     },
     "metadata": {
      "needs_background": "light"
     },
     "output_type": "display_data"
    }
   ],
   "source": [
    "plt.plot(OpeningPrice2016)\n",
    "plt.plot(OpeningPrice2017)\n",
    "plt.legend(['Opening Prices 2016','Opening Prices 2017'])"
   ]
  },
  {
   "cell_type": "code",
   "execution_count": null,
   "id": "59758ee9",
   "metadata": {},
   "outputs": [],
   "source": []
  }
 ],
 "metadata": {
  "kernelspec": {
   "display_name": "Python 3",
   "language": "python",
   "name": "python3"
  },
  "language_info": {
   "codemirror_mode": {
    "name": "ipython",
    "version": 3
   },
   "file_extension": ".py",
   "mimetype": "text/x-python",
   "name": "python",
   "nbconvert_exporter": "python",
   "pygments_lexer": "ipython3",
   "version": "3.8.8"
  }
 },
 "nbformat": 4,
 "nbformat_minor": 5
}
